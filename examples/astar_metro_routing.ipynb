{
 "cells": [
  {
   "cell_type": "markdown",
   "id": "a8bd9c02",
   "metadata": {},
   "source": [
    "# Best Route\n",
    "\n",
    "## A-Star Search Example"
   ]
  },
  {
   "cell_type": "markdown",
   "id": "abf99ac8",
   "metadata": {},
   "source": [
    "\n",
    "This Jupyter Notebook demonstrates the implementation of the A* search algorithm for finding the best route in a metro system. The notebook includes the following key components:\n",
    "\n",
    "1. **Known information**:\n",
    "    - `heuristic_graph`: Represents the straight line distances between metro stations.\n",
    "    - `distance_graph`: Represents the actual distances between connected metro stations.\n",
    "    - `line_config`: Configuration of metro lines, including their speeds and the stations they serve.\n",
    "\n",
    "2. **Utility Functions**:\n",
    "    - Functions to calculate travel time, extract station/line information from states, and find neighbors for a given station.\n",
    "\n",
    "4. **Search Problem**:\n",
    "    - `routing`: An instance of the search problem configured with the metro data.\n",
    "\n",
    "5. **A-Star Search**:\n",
    "    - `AStar`: The A* search algorithm implementation.\n",
    "    - `pathfinder`: An instance of A* used to find the optimal route between two stations.\n",
    "\n",
    "This notebook provides a comprehensive example of applying A* search to solve a real-world routing problem, with clear visualizations and detailed journey analysis.\n",
    "```"
   ]
  },
  {
   "cell_type": "code",
   "execution_count": null,
   "id": "51bdd640",
   "metadata": {},
   "outputs": [],
   "source": [
    "import sys\n",
    "import os\n",
    "sys.path.append(os.path.abspath('..'))"
   ]
  },
  {
   "cell_type": "code",
   "execution_count": null,
   "id": "9952bc76",
   "metadata": {},
   "outputs": [],
   "source": [
    "from src.search import AStar\n",
    "from src.search import SearchProblem\n",
    "from typing import Dict, List\n",
    "from prettytable import PrettyTable"
   ]
  },
  {
   "cell_type": "code",
   "execution_count": null,
   "id": "24f92cea",
   "metadata": {},
   "outputs": [],
   "source": [
    "from astar_metro_routing_utils import plot_graph, create_fixed_layout"
   ]
  },
  {
   "cell_type": "code",
   "execution_count": null,
   "id": "376bcbe3",
   "metadata": {},
   "outputs": [],
   "source": [
    "line_config = {\n",
    "    'R': { 'speed': 40.0, 'stations': ['E1', 'E2', 'E3', 'E4', 'E14']},\n",
    "    'G': { 'speed': 40.0, 'stations': ['E2', 'E7', 'E9', 'E10', 'E13']},\n",
    "    'B': { 'speed': 40.0, 'stations': ['E6', 'E7', 'E3', 'E8', 'E10', 'E12']},\n",
    "    'Y': { 'speed': 40.0, 'stations': ['E11', 'E9', 'E8', 'E4', 'E5']},\n",
    "}"
   ]
  },
  {
   "cell_type": "code",
   "execution_count": null,
   "id": "453730c5",
   "metadata": {},
   "outputs": [],
   "source": [
    "heuristic_graph = {\n",
    "    'E1': {'E2': 4.3, 'E3': 9, 'E4': 14.7, 'E5': 17.2, 'E6': 13.1, 'E7': 11.8, 'E8': 11.3, 'E9': 8.2, 'E10': 10.7, 'E11': 8.4, 'E12': 14.1, 'E13': 18.5, 'E14': 17.3},\n",
    "    'E2': {'E1': 4.3, 'E3': 5.3, 'E4': 10.3, 'E5': 13.1, 'E6': 12.7, 'E7': 10.3, 'E8': 6.9, 'E9': 4.3, 'E10': 7.4, 'E11': 5.9, 'E12': 11.3, 'E13': 14.8, 'E14': 12.9},\n",
    "    'E3': {'E1': 9, 'E2': 5.3, 'E4': 5.9, 'E5': 8.5, 'E6': 10.9, 'E7': 7.7, 'E8': 4.1, 'E9': 6.5, 'E10': 8.9, 'E11': 9.4, 'E12': 14.5, 'E13': 13.9, 'E14': 10.3},\n",
    "    'E4': {'E1': 14.7, 'E2': 10.3, 'E3': 5.9, 'E5': 2.9, 'E6': 15, 'E7': 12.7, 'E8': 4, 'E9': 9.1, 'E10': 9.7, 'E11': 12.2, 'E12': 14.7, 'E13': 10.6, 'E14': 6},\n",
    "    'E5': {'E1': 17.2, 'E2': 13.1, 'E3': 8.5, 'E4': 2.9, 'E6': 16, 'E7': 12.3, 'E8': 7, 'E9': 12, 'E10': 15.3, 'E11': 14.8, 'E12': 17.3, 'E13': 12.7, 'E14': 6.9},\n",
    "    'E6': {'E1': 13.1, 'E2': 12.7, 'E3': 10.9, 'E4': 15, 'E5': 16, 'E7': 3.2, 'E8': 15.1, 'E9': 16.5, 'E10': 18.5, 'E11': 19, 'E12': 24.3, 'E13': 25.2, 'E14': 21.1},\n",
    "    'E7': {'E1': 11.8, 'E2': 10.3, 'E3': 7.7, 'E4': 12.7, 'E5': 12.3, 'E6': 3.2, 'E8': 12, 'E9': 13.3, 'E10': 16.4, 'E11': 16, 'E12': 22.2, 'E13': 22.6, 'E14': 17.1},\n",
    "    'E8': {'E1': 11.3, 'E2': 6.9, 'E3': 4.1, 'E4': 4, 'E5': 7, 'E6': 15.1, 'E7': 12, 'E9': 5, 'E10': 5.6, 'E11': 7.9, 'E12': 12.4, 'E13': 9.8, 'E14': 6.4},\n",
    "    'E9': {'E1': 8.2, 'E2': 4.3, 'E3': 6.5, 'E4': 9.1, 'E5': 12, 'E6': 16.5, 'E7': 13.3, 'E8': 5, 'E10': 3, 'E11': 3.4, 'E12': 8.1, 'E13': 10.9, 'E14': 9.6},\n",
    "    'E10': {'E1': 10.7, 'E2': 7.4, 'E3': 8.9, 'E4': 9.7, 'E5': 15.3, 'E6': 18.5, 'E7': 16.4, 'E8': 5.6, 'E9': 3, 'E11': 3.4, 'E12': 5.6, 'E13': 7.7, 'E14': 8.4},\n",
    "    'E11': {'E1': 8.4, 'E2': 5.9, 'E3': 9.4, 'E4': 12.2, 'E5': 14.8, 'E6': 19, 'E7': 16, 'E8': 7.9, 'E9': 3.4, 'E10': 3.4, 'E12': 5.9, 'E13': 11.2, 'E14': 12.7},\n",
    "    'E12': {'E1': 14.1, 'E2': 11.3, 'E3': 14.5, 'E4': 14.7, 'E5': 17.3, 'E6': 24.3, 'E7': 22.2, 'E8': 12.4, 'E9': 8.1, 'E10': 5.6, 'E11': 5.9, 'E13': 8.6, 'E14': 12.3},\n",
    "    'E13': {'E1': 18.5, 'E2': 14.8, 'E3': 13.9, 'E4': 10.6, 'E5': 12.7, 'E6': 25.2, 'E7': 22.6, 'E8': 9.8, 'E9': 10.9, 'E10': 7.7, 'E11': 11.2, 'E12': 8.6, 'E14': 6.1},\n",
    "    'E14': {'E1': 17.3, 'E2': 12.9, 'E3': 10.3, 'E4': 6, 'E5': 6.9, 'E6': 21.1, 'E7': 17.1, 'E8': 6.4, 'E9': 9.6, 'E10': 8.4, 'E11': 12.7, 'E12': 12.3, 'E13': 6.1}\n",
    "}"
   ]
  },
  {
   "cell_type": "code",
   "execution_count": null,
   "id": "60a4a2f1",
   "metadata": {},
   "outputs": [],
   "source": [
    "fixed_pos = create_fixed_layout(heuristic_graph)"
   ]
  },
  {
   "cell_type": "code",
   "execution_count": null,
   "id": "d9675731",
   "metadata": {},
   "outputs": [],
   "source": [
    "plot_graph(heuristic_graph, pos=fixed_pos)"
   ]
  },
  {
   "cell_type": "code",
   "execution_count": null,
   "id": "1b63438b",
   "metadata": {},
   "outputs": [],
   "source": [
    "distance_graph = {\n",
    "    'E1': {'E2': 4.3},\n",
    "    'E2': {'E1': 4.3, 'E3': 5.3, 'E7': 14.3,  'E9': 4.3},\n",
    "    'E3': {'E2': 5.3, 'E4': 5.9, 'E7': 8.5, 'E8': 4.1},\n",
    "    'E4': {'E3': 5.9, 'E5': 2.9, 'E8': 4, 'E14': 6.2},\n",
    "    'E5': {'E4': 2.9},\n",
    "    'E6': {'E7': 3.2},\n",
    "    'E7': {'E2': 14.3, 'E3': 8.5, 'E6': 3.2},\n",
    "    'E8': {'E3': 4.1, 'E4': 4, 'E9': 5, 'E10': 6},\n",
    "    'E9': {'E2': 4.3, 'E8': 5, 'E10': 3, 'E11': 3.4},\n",
    "    'E10': {'E8': 6, 'E9': 3, 'E12': 5.6, 'E13': 9.1},\n",
    "    'E11': {'E9': 3.4},\n",
    "    'E12': {'E10': 5.6},\n",
    "    'E13': {'E10': 9.1},\n",
    "    'E14': {'E4': 6.2}\n",
    "}"
   ]
  },
  {
   "cell_type": "code",
   "execution_count": null,
   "id": "8085c5e7",
   "metadata": {},
   "outputs": [],
   "source": [
    "plot_graph(distance_graph, pos=fixed_pos, line_config=line_config)"
   ]
  },
  {
   "cell_type": "code",
   "execution_count": null,
   "id": "dff81809",
   "metadata": {},
   "outputs": [],
   "source": [
    "def get_common_lines(station1: str, station2: str, line_config: Dict) -> List[str]:\n",
    "    \"\"\"Find common lines between two stations by checking each line's stations.\"\"\"\n",
    "    common_lines = []\n",
    "    \n",
    "    for line_id, config in line_config.items():\n",
    "        stations = config['stations']\n",
    "        if station1 in stations and station2 in stations:\n",
    "            common_lines.append(line_id)\n",
    "            \n",
    "    return common_lines"
   ]
  },
  {
   "cell_type": "code",
   "execution_count": null,
   "id": "a4b295ca",
   "metadata": {},
   "outputs": [],
   "source": [
    "def get_travel_time(distance: float, line_id: str, line_config: Dict) -> float:\n",
    "        \"\"\"Calculate travel time based on line speed.\"\"\"\n",
    "        speed = line_config[line_id]['speed']\n",
    "        return distance / speed"
   ]
  },
  {
   "cell_type": "code",
   "execution_count": null,
   "id": "40096ad0",
   "metadata": {},
   "outputs": [],
   "source": [
    "def get_state_key(station: str, line: str = None) -> str:\n",
    "    \"\"\"Creates a compound state key from station and line.\"\"\"\n",
    "    return f\"{station}_{line}\" if line else station"
   ]
  },
  {
   "cell_type": "code",
   "execution_count": null,
   "id": "c686f88b",
   "metadata": {},
   "outputs": [],
   "source": [
    "def get_station_from_state(state: str) -> str:\n",
    "    \"\"\"Extracts station from compound state.\"\"\"\n",
    "    return state.split('_')[0]\n",
    "\n",
    "def get_line_from_state(state: str) -> str:\n",
    "    \"\"\"Extracts line from compound state.\"\"\"\n",
    "    parts = state.split('_')\n",
    "    return parts[1] if len(parts) > 1 else None"
   ]
  },
  {
   "cell_type": "code",
   "execution_count": null,
   "id": "f0992784",
   "metadata": {},
   "outputs": [],
   "source": [
    "\n",
    "def get_neighbors_fn(state: str, distances: Dict, line_config: Dict) -> List[str]:\n",
    "    \"\"\"Get all neighboring stations with possible lines.\"\"\"\n",
    "    station = get_station_from_state(state)\n",
    "    current_line = get_line_from_state(state)\n",
    "    \n",
    "    if station not in distances:\n",
    "        return []\n",
    "        \n",
    "    neighbors = []\n",
    "    for next_station in distances[station]:\n",
    "        # For each physical neighbor, find possible lines to use\n",
    "        common_lines = get_common_lines(station, next_station, line_config)\n",
    "        for line in common_lines:\n",
    "            neighbors.append(get_state_key(next_station, line))\n",
    "\n",
    "    return neighbors\n"
   ]
  },
  {
   "cell_type": "code",
   "execution_count": null,
   "id": "2042e63e",
   "metadata": {},
   "outputs": [],
   "source": [
    "def heuristic_fn(state: str, goal_state: str, heuristics: Dict, line_config: Dict) -> float:\n",
    "    \"\"\"Estimate minimum travel time to goal.\"\"\"\n",
    "    \n",
    "    if state not in heuristics or goal_state not in heuristics[state]:\n",
    "        return 0.0\n",
    "        \n",
    "    distance = heuristics[state][goal_state]\n",
    "    max_speed = max(config['speed'] for config in line_config.values())\n",
    "    \n",
    "    return distance / max_speed"
   ]
  },
  {
   "cell_type": "code",
   "execution_count": null,
   "id": "489cc9b4",
   "metadata": {},
   "outputs": [],
   "source": [
    "def get_cost_fn(from_state: str, to_state: str, distances: Dict, line_config: Dict, line_change_penalty: float) -> float:\n",
    "    \"\"\"Calculate total time cost including travel time and line changes.\"\"\"\n",
    "    from_station = get_station_from_state(from_state)\n",
    "    to_station = get_station_from_state(to_state)\n",
    "    from_line = get_line_from_state(from_state)\n",
    "    to_line = get_line_from_state(to_state)\n",
    "    \n",
    "    if to_station not in distances.get(from_station, {}):\n",
    "        return float('inf')\n",
    "        \n",
    "    distance = distances[from_station][to_station]\n",
    "    \n",
    "    # Calculate travel time using the destination line's speed\n",
    "    speed = line_config[to_line]['speed']\n",
    "    travel_time = distance / speed\n",
    "    \n",
    "    # Add penalty if changing lines\n",
    "    if from_line and to_line and from_line != to_line:\n",
    "        travel_time += line_change_penalty\n",
    "        \n",
    "    return travel_time"
   ]
  },
  {
   "cell_type": "code",
   "execution_count": null,
   "id": "1986858b",
   "metadata": {},
   "outputs": [],
   "source": [
    "# Create routing problem with line configuration\n",
    "routing = SearchProblem(\n",
    "    get_neighbors_fn=lambda state: get_neighbors_fn(state, \n",
    "                                                    distance_graph, \n",
    "                                                    line_config),\n",
    "    get_cost_fn=lambda from_state, to_state: get_cost_fn(from_state, \n",
    "                                                         to_state, \n",
    "                                                        distance_graph, \n",
    "                                                        line_config,\n",
    "                                                        line_change_penalty=(3/60)),\n",
    "    heuristic_fn=lambda state, goal: heuristic_fn(get_station_from_state(state), \n",
    "                                               get_station_from_state(goal), \n",
    "                                               heuristic_graph, \n",
    "                                               line_config),\n",
    "    is_goal_fn=lambda state, goal: get_station_from_state(state) == get_station_from_state(goal)\n",
    ")\n"
   ]
  },
  {
   "cell_type": "code",
   "execution_count": null,
   "id": "ee1691c8",
   "metadata": {},
   "outputs": [],
   "source": [
    "from IPython.display import display, HTML\n",
    "\n",
    "pathfinder = AStar(problem=routing)\n",
    "route = pathfinder.search(start='E14', goal='E13')\n",
    "\n",
    "# Plot the route (extracting just stations for plotting)\n",
    "if route:\n",
    "    print(f\"Route found: {route}\")\n",
    "    station_route = [get_station_from_state(state) for state in route]\n",
    "    plot_graph(distance_graph, \n",
    "          path=station_route, \n",
    "          pos=fixed_pos, \n",
    "          line_config=line_config)\n",
    "\n",
    "\n",
    "    # Create a PrettyTable instance\n",
    "    table = PrettyTable()\n",
    "    table.field_names = [\"From Station\", \"To Station\", \"Line\",\"Time (minutes)\"]\n",
    "\n",
    "    # Add rows to the table\n",
    "    total_time = 0\n",
    "    for step in routing.get_path_details(route):\n",
    "        time = round(step['cost'] * 60, 2)\n",
    "        total_time += time\n",
    "        table.add_row([get_station_from_state(step['from_state']), \n",
    "            get_station_from_state(step['to_state']),\n",
    "            get_line_from_state(step['to_state']), \n",
    "            time])\n",
    "        \n",
    "    # Add total time row\n",
    "    table.add_row([\"Total\", \"\", \"\", f\"{total_time:.1f}\"])\n",
    "\n",
    "    # Print the table\n",
    "    display(HTML(table.get_html_string()))"
   ]
  },
  {
   "cell_type": "code",
   "execution_count": null,
   "id": "2f4fa8f5",
   "metadata": {},
   "outputs": [],
   "source": []
  },
  {
   "cell_type": "code",
   "execution_count": null,
   "id": "daf3fed0",
   "metadata": {},
   "outputs": [],
   "source": []
  }
 ],
 "metadata": {
  "kernelspec": {
   "display_name": ".venv",
   "language": "python",
   "name": "python3"
  },
  "language_info": {
   "codemirror_mode": {
    "name": "ipython",
    "version": 3
   },
   "file_extension": ".py",
   "mimetype": "text/x-python",
   "name": "python",
   "nbconvert_exporter": "python",
   "pygments_lexer": "ipython3",
   "version": "3.10.15"
  }
 },
 "nbformat": 4,
 "nbformat_minor": 5
}
